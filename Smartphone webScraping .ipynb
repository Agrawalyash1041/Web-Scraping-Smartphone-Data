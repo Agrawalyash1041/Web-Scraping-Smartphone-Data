{
 "cells": [
  {
   "cell_type": "markdown",
   "id": "bad65eb7",
   "metadata": {},
   "source": [
    "Installing important Libraries"
   ]
  },
  {
   "cell_type": "code",
   "execution_count": 1,
   "id": "feeaa3c0",
   "metadata": {
    "scrolled": true
   },
   "outputs": [
    {
     "name": "stdout",
     "output_type": "stream",
     "text": [
      "Requirement already satisfied: bs4 in c:\\users\\yasha\\anaconda3\\lib\\site-packages (0.0.1)\n",
      "Requirement already satisfied: beautifulsoup4 in c:\\users\\yasha\\anaconda3\\lib\\site-packages (from bs4) (4.11.1)\n",
      "Requirement already satisfied: soupsieve>1.2 in c:\\users\\yasha\\anaconda3\\lib\\site-packages (from beautifulsoup4->bs4) (2.3.2.post1)\n"
     ]
    }
   ],
   "source": [
    "! pip install bs4"
   ]
  },
  {
   "cell_type": "markdown",
   "id": "ad716bc2",
   "metadata": {},
   "source": [
    "Importing the important libraries"
   ]
  },
  {
   "cell_type": "code",
   "execution_count": 2,
   "id": "eff3fe4c",
   "metadata": {},
   "outputs": [],
   "source": [
    "from bs4 import BeautifulSoup as soup\n",
    "\n",
    "import requests\n",
    "import pandas as pd\n",
    "from bs4 import BeautifulSoup"
   ]
  },
  {
   "cell_type": "code",
   "execution_count": 3,
   "id": "ade88fa4",
   "metadata": {},
   "outputs": [
    {
     "name": "stdout",
     "output_type": "stream",
     "text": [
      "<Response [200]>\n"
     ]
    }
   ],
   "source": [
    "web = \"https://www.flipkart.com/search?q=tv&marketplace=FLIPKART&as-show=on&as=off&page=1\"\n",
    "page = requests.get(web)\n",
    "print(page)"
   ]
  },
  {
   "cell_type": "code",
   "execution_count": 4,
   "id": "8330641f",
   "metadata": {},
   "outputs": [],
   "source": [
    "prod_name = []\n",
    "prod_rating = []\n",
    "prod_price = []\n",
    "phone_Specs = []\n",
    "\n",
    "for i in range(1,221):\n",
    "    url = (\"https://www.flipkart.com/search?q=Smartphones&otracker=search&otracker1=search&marketplace=FLIPKART&as-show=on&as=off&as-pos=1&as-type=HISTORY&page=\")+str(i)\n",
    "    page = requests.get(url)\n",
    "    soup = BeautifulSoup(page.text,\"lxml\")\n",
    "    master_container = soup.find_all('div',{'class':\"_2kHMtA\"})\n",
    "    for j in master_container:\n",
    "        name = j.find(\"div\",{\"class\":\"_4rR01T\"}).text\n",
    "        prod_name.append(name)\n",
    "        price = j.find(\"div\",{\"class\":\"_30jeq3 _1_WHN1\"}).text\n",
    "        prod_price.append(price)\n",
    "        rating = j.find(\"div\",{\"class\":\"_3LWZlK\"})\n",
    "        if rating is not None:\n",
    "            prod_rating.append(rating.text)\n",
    "        else:\n",
    "            prod_rating.append('NA')\n",
    "        specs = j.find(\"ul\",{\"class\":\"_1xgFaf\"}).text\n",
    "        phone_Specs.append(specs)"
   ]
  },
  {
   "cell_type": "code",
   "execution_count": 5,
   "id": "eb671bba",
   "metadata": {
    "scrolled": true
   },
   "outputs": [
    {
     "data": {
      "text/plain": [
       "984"
      ]
     },
     "execution_count": 5,
     "metadata": {},
     "output_type": "execute_result"
    }
   ],
   "source": [
    "len(prod_name)"
   ]
  },
  {
   "cell_type": "code",
   "execution_count": 6,
   "id": "0c31fb4e",
   "metadata": {},
   "outputs": [
    {
     "data": {
      "text/plain": [
       "984"
      ]
     },
     "execution_count": 6,
     "metadata": {},
     "output_type": "execute_result"
    }
   ],
   "source": [
    "len(prod_price)"
   ]
  },
  {
   "cell_type": "code",
   "execution_count": 7,
   "id": "73b5bccb",
   "metadata": {},
   "outputs": [
    {
     "data": {
      "text/plain": [
       "984"
      ]
     },
     "execution_count": 7,
     "metadata": {},
     "output_type": "execute_result"
    }
   ],
   "source": [
    "len(prod_rating)"
   ]
  },
  {
   "cell_type": "code",
   "execution_count": 8,
   "id": "baa985f4",
   "metadata": {
    "scrolled": true
   },
   "outputs": [
    {
     "data": {
      "text/plain": [
       "984"
      ]
     },
     "execution_count": 8,
     "metadata": {},
     "output_type": "execute_result"
    }
   ],
   "source": [
    "len(phone_Specs)"
   ]
  },
  {
   "cell_type": "markdown",
   "id": "8cdf04a7",
   "metadata": {},
   "source": [
    "Converting the Data columns into df"
   ]
  },
  {
   "cell_type": "code",
   "execution_count": 9,
   "id": "4d2acc22",
   "metadata": {},
   "outputs": [
    {
     "data": {
      "text/html": [
       "<div>\n",
       "<style scoped>\n",
       "    .dataframe tbody tr th:only-of-type {\n",
       "        vertical-align: middle;\n",
       "    }\n",
       "\n",
       "    .dataframe tbody tr th {\n",
       "        vertical-align: top;\n",
       "    }\n",
       "\n",
       "    .dataframe thead th {\n",
       "        text-align: right;\n",
       "    }\n",
       "</style>\n",
       "<table border=\"1\" class=\"dataframe\">\n",
       "  <thead>\n",
       "    <tr style=\"text-align: right;\">\n",
       "      <th></th>\n",
       "      <th>Name</th>\n",
       "      <th>Ratings</th>\n",
       "      <th>Price</th>\n",
       "      <th>Specs</th>\n",
       "    </tr>\n",
       "  </thead>\n",
       "  <tbody>\n",
       "    <tr>\n",
       "      <th>0</th>\n",
       "      <td>SAMSUNG Galaxy F13 (Nightsky Green, 64 GB)</td>\n",
       "      <td>4.4</td>\n",
       "      <td>₹9,499</td>\n",
       "      <td>4 GB RAM | 64 GB ROM | Expandable Upto 1 TB16....</td>\n",
       "    </tr>\n",
       "    <tr>\n",
       "      <th>1</th>\n",
       "      <td>SAMSUNG Galaxy F13 (Sunrise Copper, 64 GB)</td>\n",
       "      <td>4.4</td>\n",
       "      <td>₹9,499</td>\n",
       "      <td>4 GB RAM | 64 GB ROM | Expandable Upto 1 TB16....</td>\n",
       "    </tr>\n",
       "    <tr>\n",
       "      <th>2</th>\n",
       "      <td>SAMSUNG Galaxy F13 (Waterfall Blue, 64 GB)</td>\n",
       "      <td>4.4</td>\n",
       "      <td>₹9,499</td>\n",
       "      <td>4 GB RAM | 64 GB ROM | Expandable Upto 1 TB16....</td>\n",
       "    </tr>\n",
       "    <tr>\n",
       "      <th>3</th>\n",
       "      <td>REDMI 10 (Pacific Blue, 64 GB)</td>\n",
       "      <td>4.3</td>\n",
       "      <td>₹8,999</td>\n",
       "      <td>4 GB RAM | 64 GB ROM | Expandable Upto 1 TB17....</td>\n",
       "    </tr>\n",
       "    <tr>\n",
       "      <th>4</th>\n",
       "      <td>APPLE iPhone 14 (Blue, 128 GB)</td>\n",
       "      <td>4.6</td>\n",
       "      <td>₹66,999</td>\n",
       "      <td>128 GB ROM15.49 cm (6.1 inch) Super Retina XDR...</td>\n",
       "    </tr>\n",
       "    <tr>\n",
       "      <th>...</th>\n",
       "      <td>...</td>\n",
       "      <td>...</td>\n",
       "      <td>...</td>\n",
       "      <td>...</td>\n",
       "    </tr>\n",
       "    <tr>\n",
       "      <th>979</th>\n",
       "      <td>MOTOROLA E7 Power (Tahiti Blue, 64 GB)</td>\n",
       "      <td>4.1</td>\n",
       "      <td>₹8,999</td>\n",
       "      <td>4 GB RAM | 64 GB ROM | Expandable Upto 1 TB16....</td>\n",
       "    </tr>\n",
       "    <tr>\n",
       "      <th>980</th>\n",
       "      <td>APPLE iPhone 12 Pro (Gold, 512 GB)</td>\n",
       "      <td>4.5</td>\n",
       "      <td>₹1,05,999</td>\n",
       "      <td>512 GB ROM15.49 cm (6.1 inch) Super Retina XDR...</td>\n",
       "    </tr>\n",
       "    <tr>\n",
       "      <th>981</th>\n",
       "      <td>LAVA Z2s (Striped Blue, 32 GB)</td>\n",
       "      <td>4.1</td>\n",
       "      <td>₹7,299</td>\n",
       "      <td>2 GB RAM | 32 GB ROM | Expandable Upto 512 GB1...</td>\n",
       "    </tr>\n",
       "    <tr>\n",
       "      <th>982</th>\n",
       "      <td>realme GT Master Edition (Luna White, 256 GB)</td>\n",
       "      <td>4.3</td>\n",
       "      <td>₹29,999</td>\n",
       "      <td>8 GB RAM | 256 GB ROM16.33 cm (6.43 inch) Full...</td>\n",
       "    </tr>\n",
       "    <tr>\n",
       "      <th>983</th>\n",
       "      <td>MOTOROLA G40 Fusion (Dynamic Gray, 128 GB)</td>\n",
       "      <td>4.2</td>\n",
       "      <td>₹16,499</td>\n",
       "      <td>6 GB RAM | 128 GB ROM17.22 cm (6.78 inch) Full...</td>\n",
       "    </tr>\n",
       "  </tbody>\n",
       "</table>\n",
       "<p>984 rows × 4 columns</p>\n",
       "</div>"
      ],
      "text/plain": [
       "                                              Name Ratings      Price  \\\n",
       "0       SAMSUNG Galaxy F13 (Nightsky Green, 64 GB)     4.4     ₹9,499   \n",
       "1       SAMSUNG Galaxy F13 (Sunrise Copper, 64 GB)     4.4     ₹9,499   \n",
       "2       SAMSUNG Galaxy F13 (Waterfall Blue, 64 GB)     4.4     ₹9,499   \n",
       "3                   REDMI 10 (Pacific Blue, 64 GB)     4.3     ₹8,999   \n",
       "4                   APPLE iPhone 14 (Blue, 128 GB)     4.6    ₹66,999   \n",
       "..                                             ...     ...        ...   \n",
       "979         MOTOROLA E7 Power (Tahiti Blue, 64 GB)     4.1     ₹8,999   \n",
       "980             APPLE iPhone 12 Pro (Gold, 512 GB)     4.5  ₹1,05,999   \n",
       "981                 LAVA Z2s (Striped Blue, 32 GB)     4.1     ₹7,299   \n",
       "982  realme GT Master Edition (Luna White, 256 GB)     4.3    ₹29,999   \n",
       "983     MOTOROLA G40 Fusion (Dynamic Gray, 128 GB)     4.2    ₹16,499   \n",
       "\n",
       "                                                 Specs  \n",
       "0    4 GB RAM | 64 GB ROM | Expandable Upto 1 TB16....  \n",
       "1    4 GB RAM | 64 GB ROM | Expandable Upto 1 TB16....  \n",
       "2    4 GB RAM | 64 GB ROM | Expandable Upto 1 TB16....  \n",
       "3    4 GB RAM | 64 GB ROM | Expandable Upto 1 TB17....  \n",
       "4    128 GB ROM15.49 cm (6.1 inch) Super Retina XDR...  \n",
       "..                                                 ...  \n",
       "979  4 GB RAM | 64 GB ROM | Expandable Upto 1 TB16....  \n",
       "980  512 GB ROM15.49 cm (6.1 inch) Super Retina XDR...  \n",
       "981  2 GB RAM | 32 GB ROM | Expandable Upto 512 GB1...  \n",
       "982  8 GB RAM | 256 GB ROM16.33 cm (6.43 inch) Full...  \n",
       "983  6 GB RAM | 128 GB ROM17.22 cm (6.78 inch) Full...  \n",
       "\n",
       "[984 rows x 4 columns]"
      ]
     },
     "execution_count": 9,
     "metadata": {},
     "output_type": "execute_result"
    }
   ],
   "source": [
    "smartphone = pd.DataFrame({\"Name\":prod_name,\"Ratings\":prod_rating,\"Price\":prod_price,\"Specs\":phone_Specs})\n",
    "smartphone"
   ]
  },
  {
   "cell_type": "markdown",
   "id": "8f96d377",
   "metadata": {},
   "source": [
    "Exporting the df as a csv file"
   ]
  },
  {
   "cell_type": "code",
   "execution_count": 10,
   "id": "1728475c",
   "metadata": {},
   "outputs": [],
   "source": [
    "smartphone.to_csv('Smartphone Data.csv')"
   ]
  }
 ],
 "metadata": {
  "kernelspec": {
   "display_name": "Python 3 (ipykernel)",
   "language": "python",
   "name": "python3"
  },
  "language_info": {
   "codemirror_mode": {
    "name": "ipython",
    "version": 3
   },
   "file_extension": ".py",
   "mimetype": "text/x-python",
   "name": "python",
   "nbconvert_exporter": "python",
   "pygments_lexer": "ipython3",
   "version": "3.9.13"
  }
 },
 "nbformat": 4,
 "nbformat_minor": 5
}
